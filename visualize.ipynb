{
 "cells": [
  {
   "cell_type": "code",
   "execution_count": null,
   "id": "1bf8dd0b",
   "metadata": {},
   "outputs": [
    {
     "name": "stderr",
     "output_type": "stream",
     "text": [
      "/mnt/home/jfromer/miniforge3/envs/medchem/lib/python3.9/site-packages/MDAnalysis/converters/RDKit.py:473: UserWarning: No `bonds` attribute in this AtomGroup. Guessing bonds based on atoms coordinates\n",
      "  warnings.warn(\n"
     ]
    }
   ],
   "source": [
    "import pandas as pd \n",
    "import json \n",
    "import importlib\n",
    "from utils import vis_utils, rxn_vis, prolif_utils\n"
   ]
  },
  {
   "cell_type": "markdown",
   "id": "9450e410",
   "metadata": {},
   "source": [
    "## Results of SynFormer-guided MOR docking screen"
   ]
  },
  {
   "cell_type": "code",
   "execution_count": 7,
   "id": "46edfa03",
   "metadata": {},
   "outputs": [],
   "source": [
    "mol_buffer_file = 'data/results_mordocking_10_16.json'\n",
    " \n",
    "with open(mol_buffer_file, 'r') as f: \n",
    "    mol_buffer = json.load(f)"
   ]
  },
  {
   "cell_type": "code",
   "execution_count": 8,
   "id": "215696e4",
   "metadata": {},
   "outputs": [],
   "source": [
    "buffer_order = [\n",
    "    'Objective', \n",
    "    'Oracle call',\n",
    "    'Docking score',\n",
    "    'Best conformer',\n",
    "    'Charge',\n",
    "    'Max consecutive rotatable bonds', \n",
    "    'Unbound H bond donors',\n",
    "    'Interacts with water',\n",
    "    'Interacts with ASP',\n",
    "    'Synthesis'\n",
    "]\n",
    "\n",
    "mol_buffer = {\n",
    "    smi: val for smi, val in mol_buffer.items() \n",
    "    if len(val) >= len(buffer_order)\n",
    "}\n",
    "\n",
    "df = pd.DataFrame({'SMILES': list(mol_buffer.keys())})\n",
    "for i, column_name in enumerate(buffer_order): \n",
    "    df[column_name] = [\n",
    "        val[i] for val in mol_buffer.values()\n",
    "    ]\n",
    "\n",
    "df.sort_values(by='Objective', inplace=True, ascending=False)\n",
    "df['Rank'] = [i+1 for i in range(len(df))]"
   ]
  },
  {
   "cell_type": "code",
   "execution_count": 11,
   "id": "a6125c05",
   "metadata": {},
   "outputs": [
    {
     "name": "stderr",
     "output_type": "stream",
     "text": [
      "/mnt/home/jfromer/miniforge3/envs/medchem/lib/python3.9/site-packages/MDAnalysis/converters/RDKit.py:473: UserWarning: No `bonds` attribute in this AtomGroup. Guessing bonds based on atoms coordinates\n",
      "  warnings.warn(\n"
     ]
    },
    {
     "data": {
      "application/vnd.jupyter.widget-view+json": {
       "model_id": "d95aed45b0314c269d6a664976c570aa",
       "version_major": 2,
       "version_minor": 0
      },
      "text/plain": [
       "VBox(children=(VBox(children=(HBox(children=(FloatRangeSlider(value=(52.24, 92.35), continuous_update=False, d…"
      ]
     },
     "metadata": {},
     "output_type": "display_data"
    }
   ],
   "source": [
    "importlib.reload(rxn_vis)\n",
    "importlib.reload(prolif_utils)\n",
    "importlib.reload(vis_utils)\n",
    "\n",
    "visualizer = vis_utils.MoleculeGridSelectorWithFilters(df.loc[:50000].copy(), n_rows=2, n_cols=5)\n",
    "visualizer.display()"
   ]
  }
 ],
 "metadata": {
  "kernelspec": {
   "display_name": "medchem",
   "language": "python",
   "name": "python3"
  },
  "language_info": {
   "codemirror_mode": {
    "name": "ipython",
    "version": 3
   },
   "file_extension": ".py",
   "mimetype": "text/x-python",
   "name": "python",
   "nbconvert_exporter": "python",
   "pygments_lexer": "ipython3",
   "version": "3.9.18"
  }
 },
 "nbformat": 4,
 "nbformat_minor": 5
}
